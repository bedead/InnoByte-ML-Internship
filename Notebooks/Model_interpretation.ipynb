{
 "cells": [
  {
   "cell_type": "markdown",
   "metadata": {},
   "source": [
    "## Model Interpretation & Insights"
   ]
  },
  {
   "cell_type": "markdown",
   "metadata": {},
   "source": [
    "### Interpretation of model\n",
    "Here we understand the reason behind machine learning model which we have trained. We have trained around 12 models in previous notebook. But will understand about only top 3 model.\n",
    "\n",
    "Which are Ada Boost Classifier (29 KB), Gradient Boosting Classifier (137 KB), and Extra Tree Classifier (379 KB), i also choose these models as they have least size relative to other models."
   ]
  },
  {
   "cell_type": "markdown",
   "metadata": {},
   "source": [
    "Let's start with model loading."
   ]
  },
  {
   "cell_type": "code",
   "execution_count": 2,
   "metadata": {},
   "outputs": [
    {
     "name": "stdout",
     "output_type": "stream",
     "text": [
      "Imported Ada_B.pkl as variable Ada_B.pkl in dict.\n",
      "Imported Gradient B.pkl as variable Gradient B.pkl in dict.\n",
      "Imported Extra tree.pkl as variable Extra tree.pkl in dict.\n"
     ]
    }
   ],
   "source": [
    "import pickle\n",
    "\n",
    "FINAL_FOLDER_NAME = \"../Final_Model\"\n",
    "FOLDER_NAME = \"../Models\"\n",
    "MODELS_NAMES = [\"Ada_B.pkl\", \"Gradient B.pkl\", \"Extra tree.pkl\"]\n",
    "MODELS = {}\n",
    "\n",
    "for EACH_MODEL_NAME in MODELS_NAMES:\n",
    "    with open(f\"{FOLDER_NAME}/{EACH_MODEL_NAME}\", \"rb\") as file:\n",
    "        MODELS[f\"{EACH_MODEL_NAME}_classifier\"] = pickle.load(file)\n",
    "\n",
    "        print(f\"Imported {EACH_MODEL_NAME} as variable {EACH_MODEL_NAME} in dict.\")"
   ]
  },
  {
   "cell_type": "code",
   "execution_count": null,
   "metadata": {},
   "outputs": [],
   "source": []
  },
  {
   "cell_type": "code",
   "execution_count": null,
   "metadata": {},
   "outputs": [],
   "source": []
  },
  {
   "cell_type": "code",
   "execution_count": null,
   "metadata": {},
   "outputs": [],
   "source": []
  },
  {
   "cell_type": "code",
   "execution_count": null,
   "metadata": {},
   "outputs": [],
   "source": []
  },
  {
   "cell_type": "markdown",
   "metadata": {},
   "source": []
  }
 ],
 "metadata": {
  "kernelspec": {
   "display_name": "venv",
   "language": "python",
   "name": "python3"
  },
  "language_info": {
   "codemirror_mode": {
    "name": "ipython",
    "version": 3
   },
   "file_extension": ".py",
   "mimetype": "text/x-python",
   "name": "python",
   "nbconvert_exporter": "python",
   "pygments_lexer": "ipython3",
   "version": "3.12.0"
  }
 },
 "nbformat": 4,
 "nbformat_minor": 2
}
